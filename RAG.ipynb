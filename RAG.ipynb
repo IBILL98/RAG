{
 "cells": [
  {
   "cell_type": "code",
   "execution_count": 1,
   "metadata": {},
   "outputs": [
    {
     "name": "stdout",
     "output_type": "stream",
     "text": [
      "Requirement already satisfied: PyMuPDF==1.24.7 in c:\\users\\monster\\desktop\\engeai\\.venv\\lib\\site-packages (from -r requirements.txt (line 1)) (1.24.7)\n",
      "Requirement already satisfied: transformers==4.42.3 in c:\\users\\monster\\desktop\\engeai\\.venv\\lib\\site-packages (from -r requirements.txt (line 2)) (4.42.3)\n",
      "Requirement already satisfied: torch==2.3.1 in c:\\users\\monster\\desktop\\engeai\\.venv\\lib\\site-packages (from -r requirements.txt (line 3)) (2.3.1)\n",
      "Requirement already satisfied: numpy==1.26.4 in c:\\users\\monster\\desktop\\engeai\\.venv\\lib\\site-packages (from -r requirements.txt (line 4)) (1.26.4)\n",
      "Requirement already satisfied: tensorflow==2.16.2 in c:\\users\\monster\\desktop\\engeai\\.venv\\lib\\site-packages (from -r requirements.txt (line 5)) (2.16.2)\n",
      "Requirement already satisfied: openai==1.35.7 in c:\\users\\monster\\desktop\\engeai\\.venv\\lib\\site-packages (from -r requirements.txt (line 7)) (1.35.7)\n",
      "Requirement already satisfied: nltk==3.8.1 in c:\\users\\monster\\desktop\\engeai\\.venv\\lib\\site-packages (from -r requirements.txt (line 8)) (3.8.1)\n",
      "Requirement already satisfied: spacy==3.7.5 in c:\\users\\monster\\desktop\\engeai\\.venv\\lib\\site-packages (from -r requirements.txt (line 9)) (3.7.5)\n",
      "Requirement already satisfied: sentence-transformers==3.0.1 in c:\\users\\monster\\desktop\\engeai\\.venv\\lib\\site-packages (from -r requirements.txt (line 10)) (3.0.1)\n",
      "Requirement already satisfied: fastapi==0.111.0 in c:\\users\\monster\\desktop\\engeai\\.venv\\lib\\site-packages (from -r requirements.txt (line 11)) (0.111.0)\n",
      "Requirement already satisfied: faiss-cpu==1.8.0.post1 in c:\\users\\monster\\desktop\\engeai\\.venv\\lib\\site-packages (from -r requirements.txt (line 12)) (1.8.0.post1)\n",
      "Requirement already satisfied: llama-index-llms-groq==0.1.4 in c:\\users\\monster\\desktop\\engeai\\.venv\\lib\\site-packages (from -r requirements.txt (line 13)) (0.1.4)\n",
      "Requirement already satisfied: pyyaml==6.0.1 in c:\\users\\monster\\desktop\\engeai\\.venv\\lib\\site-packages (from -r requirements.txt (line 14)) (6.0.1)\n",
      "Requirement already satisfied: PyMuPDFb==1.24.6 in c:\\users\\monster\\desktop\\engeai\\.venv\\lib\\site-packages (from PyMuPDF==1.24.7->-r requirements.txt (line 1)) (1.24.6)\n",
      "Requirement already satisfied: filelock in c:\\users\\monster\\desktop\\engeai\\.venv\\lib\\site-packages (from transformers==4.42.3->-r requirements.txt (line 2)) (3.15.4)\n",
      "Requirement already satisfied: huggingface-hub<1.0,>=0.23.2 in c:\\users\\monster\\desktop\\engeai\\.venv\\lib\\site-packages (from transformers==4.42.3->-r requirements.txt (line 2)) (0.23.4)\n",
      "Requirement already satisfied: packaging>=20.0 in c:\\users\\monster\\desktop\\engeai\\.venv\\lib\\site-packages (from transformers==4.42.3->-r requirements.txt (line 2)) (24.1)\n",
      "Requirement already satisfied: regex!=2019.12.17 in c:\\users\\monster\\desktop\\engeai\\.venv\\lib\\site-packages (from transformers==4.42.3->-r requirements.txt (line 2)) (2024.5.15)\n",
      "Requirement already satisfied: requests in c:\\users\\monster\\desktop\\engeai\\.venv\\lib\\site-packages (from transformers==4.42.3->-r requirements.txt (line 2)) (2.32.3)\n",
      "Requirement already satisfied: safetensors>=0.4.1 in c:\\users\\monster\\desktop\\engeai\\.venv\\lib\\site-packages (from transformers==4.42.3->-r requirements.txt (line 2)) (0.4.3)\n",
      "Requirement already satisfied: tokenizers<0.20,>=0.19 in c:\\users\\monster\\desktop\\engeai\\.venv\\lib\\site-packages (from transformers==4.42.3->-r requirements.txt (line 2)) (0.19.1)\n",
      "Requirement already satisfied: tqdm>=4.27 in c:\\users\\monster\\desktop\\engeai\\.venv\\lib\\site-packages (from transformers==4.42.3->-r requirements.txt (line 2)) (4.66.4)\n",
      "Requirement already satisfied: typing-extensions>=4.8.0 in c:\\users\\monster\\desktop\\engeai\\.venv\\lib\\site-packages (from torch==2.3.1->-r requirements.txt (line 3)) (4.12.2)\n",
      "Requirement already satisfied: sympy in c:\\users\\monster\\desktop\\engeai\\.venv\\lib\\site-packages (from torch==2.3.1->-r requirements.txt (line 3)) (1.12.1)\n",
      "Requirement already satisfied: networkx in c:\\users\\monster\\desktop\\engeai\\.venv\\lib\\site-packages (from torch==2.3.1->-r requirements.txt (line 3)) (3.3)\n",
      "Requirement already satisfied: jinja2 in c:\\users\\monster\\desktop\\engeai\\.venv\\lib\\site-packages (from torch==2.3.1->-r requirements.txt (line 3)) (3.1.4)\n",
      "Requirement already satisfied: fsspec in c:\\users\\monster\\desktop\\engeai\\.venv\\lib\\site-packages (from torch==2.3.1->-r requirements.txt (line 3)) (2024.6.1)\n",
      "Requirement already satisfied: mkl<=2021.4.0,>=2021.1.1 in c:\\users\\monster\\desktop\\engeai\\.venv\\lib\\site-packages (from torch==2.3.1->-r requirements.txt (line 3)) (2021.4.0)\n",
      "Requirement already satisfied: tensorflow-intel==2.16.2 in c:\\users\\monster\\desktop\\engeai\\.venv\\lib\\site-packages (from tensorflow==2.16.2->-r requirements.txt (line 5)) (2.16.2)\n",
      "Requirement already satisfied: anyio<5,>=3.5.0 in c:\\users\\monster\\desktop\\engeai\\.venv\\lib\\site-packages (from openai==1.35.7->-r requirements.txt (line 7)) (4.4.0)\n",
      "Requirement already satisfied: distro<2,>=1.7.0 in c:\\users\\monster\\desktop\\engeai\\.venv\\lib\\site-packages (from openai==1.35.7->-r requirements.txt (line 7)) (1.9.0)\n",
      "Requirement already satisfied: httpx<1,>=0.23.0 in c:\\users\\monster\\desktop\\engeai\\.venv\\lib\\site-packages (from openai==1.35.7->-r requirements.txt (line 7)) (0.27.0)\n",
      "Requirement already satisfied: pydantic<3,>=1.9.0 in c:\\users\\monster\\desktop\\engeai\\.venv\\lib\\site-packages (from openai==1.35.7->-r requirements.txt (line 7)) (2.8.0)\n",
      "Requirement already satisfied: sniffio in c:\\users\\monster\\desktop\\engeai\\.venv\\lib\\site-packages (from openai==1.35.7->-r requirements.txt (line 7)) (1.3.1)\n",
      "Requirement already satisfied: click in c:\\users\\monster\\desktop\\engeai\\.venv\\lib\\site-packages (from nltk==3.8.1->-r requirements.txt (line 8)) (8.1.7)\n",
      "Requirement already satisfied: joblib in c:\\users\\monster\\desktop\\engeai\\.venv\\lib\\site-packages (from nltk==3.8.1->-r requirements.txt (line 8)) (1.4.2)\n",
      "Requirement already satisfied: spacy-legacy<3.1.0,>=3.0.11 in c:\\users\\monster\\desktop\\engeai\\.venv\\lib\\site-packages (from spacy==3.7.5->-r requirements.txt (line 9)) (3.0.12)\n",
      "Requirement already satisfied: spacy-loggers<2.0.0,>=1.0.0 in c:\\users\\monster\\desktop\\engeai\\.venv\\lib\\site-packages (from spacy==3.7.5->-r requirements.txt (line 9)) (1.0.5)\n",
      "Requirement already satisfied: murmurhash<1.1.0,>=0.28.0 in c:\\users\\monster\\desktop\\engeai\\.venv\\lib\\site-packages (from spacy==3.7.5->-r requirements.txt (line 9)) (1.0.10)\n",
      "Requirement already satisfied: cymem<2.1.0,>=2.0.2 in c:\\users\\monster\\desktop\\engeai\\.venv\\lib\\site-packages (from spacy==3.7.5->-r requirements.txt (line 9)) (2.0.8)\n",
      "Requirement already satisfied: preshed<3.1.0,>=3.0.2 in c:\\users\\monster\\desktop\\engeai\\.venv\\lib\\site-packages (from spacy==3.7.5->-r requirements.txt (line 9)) (3.0.9)\n",
      "Requirement already satisfied: thinc<8.3.0,>=8.2.2 in c:\\users\\monster\\desktop\\engeai\\.venv\\lib\\site-packages (from spacy==3.7.5->-r requirements.txt (line 9)) (8.2.5)\n",
      "Requirement already satisfied: wasabi<1.2.0,>=0.9.1 in c:\\users\\monster\\desktop\\engeai\\.venv\\lib\\site-packages (from spacy==3.7.5->-r requirements.txt (line 9)) (1.1.3)\n",
      "Requirement already satisfied: srsly<3.0.0,>=2.4.3 in c:\\users\\monster\\desktop\\engeai\\.venv\\lib\\site-packages (from spacy==3.7.5->-r requirements.txt (line 9)) (2.4.8)\n",
      "Requirement already satisfied: catalogue<2.1.0,>=2.0.6 in c:\\users\\monster\\desktop\\engeai\\.venv\\lib\\site-packages (from spacy==3.7.5->-r requirements.txt (line 9)) (2.0.10)\n",
      "Requirement already satisfied: weasel<0.5.0,>=0.1.0 in c:\\users\\monster\\desktop\\engeai\\.venv\\lib\\site-packages (from spacy==3.7.5->-r requirements.txt (line 9)) (0.4.1)\n",
      "Requirement already satisfied: typer<1.0.0,>=0.3.0 in c:\\users\\monster\\desktop\\engeai\\.venv\\lib\\site-packages (from spacy==3.7.5->-r requirements.txt (line 9)) (0.12.3)\n",
      "Requirement already satisfied: setuptools in c:\\users\\monster\\desktop\\engeai\\.venv\\lib\\site-packages (from spacy==3.7.5->-r requirements.txt (line 9)) (70.2.0)\n",
      "Requirement already satisfied: langcodes<4.0.0,>=3.2.0 in c:\\users\\monster\\desktop\\engeai\\.venv\\lib\\site-packages (from spacy==3.7.5->-r requirements.txt (line 9)) (3.4.0)\n",
      "Requirement already satisfied: scikit-learn in c:\\users\\monster\\desktop\\engeai\\.venv\\lib\\site-packages (from sentence-transformers==3.0.1->-r requirements.txt (line 10)) (1.5.0)\n",
      "Requirement already satisfied: scipy in c:\\users\\monster\\desktop\\engeai\\.venv\\lib\\site-packages (from sentence-transformers==3.0.1->-r requirements.txt (line 10)) (1.14.0)\n",
      "Requirement already satisfied: Pillow in c:\\users\\monster\\desktop\\engeai\\.venv\\lib\\site-packages (from sentence-transformers==3.0.1->-r requirements.txt (line 10)) (10.4.0)\n",
      "Requirement already satisfied: starlette<0.38.0,>=0.37.2 in c:\\users\\monster\\desktop\\engeai\\.venv\\lib\\site-packages (from fastapi==0.111.0->-r requirements.txt (line 11)) (0.37.2)\n",
      "Requirement already satisfied: fastapi-cli>=0.0.2 in c:\\users\\monster\\desktop\\engeai\\.venv\\lib\\site-packages (from fastapi==0.111.0->-r requirements.txt (line 11)) (0.0.4)\n",
      "Requirement already satisfied: python-multipart>=0.0.7 in c:\\users\\monster\\desktop\\engeai\\.venv\\lib\\site-packages (from fastapi==0.111.0->-r requirements.txt (line 11)) (0.0.9)\n",
      "Requirement already satisfied: ujson!=4.0.2,!=4.1.0,!=4.2.0,!=4.3.0,!=5.0.0,!=5.1.0,>=4.0.1 in c:\\users\\monster\\desktop\\engeai\\.venv\\lib\\site-packages (from fastapi==0.111.0->-r requirements.txt (line 11)) (5.10.0)\n",
      "Requirement already satisfied: orjson>=3.2.1 in c:\\users\\monster\\desktop\\engeai\\.venv\\lib\\site-packages (from fastapi==0.111.0->-r requirements.txt (line 11)) (3.10.5)\n",
      "Requirement already satisfied: email_validator>=2.0.0 in c:\\users\\monster\\desktop\\engeai\\.venv\\lib\\site-packages (from fastapi==0.111.0->-r requirements.txt (line 11)) (2.2.0)\n",
      "Requirement already satisfied: uvicorn>=0.12.0 in c:\\users\\monster\\desktop\\engeai\\.venv\\lib\\site-packages (from uvicorn[standard]>=0.12.0->fastapi==0.111.0->-r requirements.txt (line 11)) (0.30.1)\n",
      "Requirement already satisfied: llama-index-core<0.11.0,>=0.10.1 in c:\\users\\monster\\desktop\\engeai\\.venv\\lib\\site-packages (from llama-index-llms-groq==0.1.4->-r requirements.txt (line 13)) (0.10.51)\n",
      "Requirement already satisfied: llama-index-llms-openai-like<0.2.0,>=0.1.3 in c:\\users\\monster\\desktop\\engeai\\.venv\\lib\\site-packages (from llama-index-llms-groq==0.1.4->-r requirements.txt (line 13)) (0.1.3)\n",
      "Requirement already satisfied: absl-py>=1.0.0 in c:\\users\\monster\\desktop\\engeai\\.venv\\lib\\site-packages (from tensorflow-intel==2.16.2->tensorflow==2.16.2->-r requirements.txt (line 5)) (2.1.0)\n",
      "Requirement already satisfied: astunparse>=1.6.0 in c:\\users\\monster\\desktop\\engeai\\.venv\\lib\\site-packages (from tensorflow-intel==2.16.2->tensorflow==2.16.2->-r requirements.txt (line 5)) (1.6.3)\n",
      "Requirement already satisfied: flatbuffers>=23.5.26 in c:\\users\\monster\\desktop\\engeai\\.venv\\lib\\site-packages (from tensorflow-intel==2.16.2->tensorflow==2.16.2->-r requirements.txt (line 5)) (24.3.25)\n",
      "Requirement already satisfied: gast!=0.5.0,!=0.5.1,!=0.5.2,>=0.2.1 in c:\\users\\monster\\desktop\\engeai\\.venv\\lib\\site-packages (from tensorflow-intel==2.16.2->tensorflow==2.16.2->-r requirements.txt (line 5)) (0.6.0)\n",
      "Requirement already satisfied: google-pasta>=0.1.1 in c:\\users\\monster\\desktop\\engeai\\.venv\\lib\\site-packages (from tensorflow-intel==2.16.2->tensorflow==2.16.2->-r requirements.txt (line 5)) (0.2.0)\n",
      "Requirement already satisfied: h5py>=3.10.0 in c:\\users\\monster\\desktop\\engeai\\.venv\\lib\\site-packages (from tensorflow-intel==2.16.2->tensorflow==2.16.2->-r requirements.txt (line 5)) (3.11.0)\n",
      "Requirement already satisfied: libclang>=13.0.0 in c:\\users\\monster\\desktop\\engeai\\.venv\\lib\\site-packages (from tensorflow-intel==2.16.2->tensorflow==2.16.2->-r requirements.txt (line 5)) (18.1.1)\n",
      "Requirement already satisfied: ml-dtypes~=0.3.1 in c:\\users\\monster\\desktop\\engeai\\.venv\\lib\\site-packages (from tensorflow-intel==2.16.2->tensorflow==2.16.2->-r requirements.txt (line 5)) (0.3.2)\n",
      "Requirement already satisfied: opt-einsum>=2.3.2 in c:\\users\\monster\\desktop\\engeai\\.venv\\lib\\site-packages (from tensorflow-intel==2.16.2->tensorflow==2.16.2->-r requirements.txt (line 5)) (3.3.0)\n",
      "Requirement already satisfied: protobuf!=4.21.0,!=4.21.1,!=4.21.2,!=4.21.3,!=4.21.4,!=4.21.5,<5.0.0dev,>=3.20.3 in c:\\users\\monster\\desktop\\engeai\\.venv\\lib\\site-packages (from tensorflow-intel==2.16.2->tensorflow==2.16.2->-r requirements.txt (line 5)) (4.25.3)\n",
      "Requirement already satisfied: six>=1.12.0 in c:\\users\\monster\\desktop\\engeai\\.venv\\lib\\site-packages (from tensorflow-intel==2.16.2->tensorflow==2.16.2->-r requirements.txt (line 5)) (1.16.0)\n",
      "Requirement already satisfied: termcolor>=1.1.0 in c:\\users\\monster\\desktop\\engeai\\.venv\\lib\\site-packages (from tensorflow-intel==2.16.2->tensorflow==2.16.2->-r requirements.txt (line 5)) (2.4.0)\n",
      "Requirement already satisfied: wrapt>=1.11.0 in c:\\users\\monster\\desktop\\engeai\\.venv\\lib\\site-packages (from tensorflow-intel==2.16.2->tensorflow==2.16.2->-r requirements.txt (line 5)) (1.16.0)\n",
      "Requirement already satisfied: grpcio<2.0,>=1.24.3 in c:\\users\\monster\\desktop\\engeai\\.venv\\lib\\site-packages (from tensorflow-intel==2.16.2->tensorflow==2.16.2->-r requirements.txt (line 5)) (1.64.1)\n",
      "Requirement already satisfied: tensorboard<2.17,>=2.16 in c:\\users\\monster\\desktop\\engeai\\.venv\\lib\\site-packages (from tensorflow-intel==2.16.2->tensorflow==2.16.2->-r requirements.txt (line 5)) (2.16.2)\n",
      "Requirement already satisfied: keras>=3.0.0 in c:\\users\\monster\\desktop\\engeai\\.venv\\lib\\site-packages (from tensorflow-intel==2.16.2->tensorflow==2.16.2->-r requirements.txt (line 5)) (3.4.1)\n",
      "Requirement already satisfied: idna>=2.8 in c:\\users\\monster\\desktop\\engeai\\.venv\\lib\\site-packages (from anyio<5,>=3.5.0->openai==1.35.7->-r requirements.txt (line 7)) (3.7)\n",
      "Requirement already satisfied: dnspython>=2.0.0 in c:\\users\\monster\\desktop\\engeai\\.venv\\lib\\site-packages (from email_validator>=2.0.0->fastapi==0.111.0->-r requirements.txt (line 11)) (2.6.1)\n",
      "Requirement already satisfied: certifi in c:\\users\\monster\\desktop\\engeai\\.venv\\lib\\site-packages (from httpx<1,>=0.23.0->openai==1.35.7->-r requirements.txt (line 7)) (2024.6.2)\n",
      "Requirement already satisfied: httpcore==1.* in c:\\users\\monster\\desktop\\engeai\\.venv\\lib\\site-packages (from httpx<1,>=0.23.0->openai==1.35.7->-r requirements.txt (line 7)) (1.0.5)\n",
      "Requirement already satisfied: h11<0.15,>=0.13 in c:\\users\\monster\\desktop\\engeai\\.venv\\lib\\site-packages (from httpcore==1.*->httpx<1,>=0.23.0->openai==1.35.7->-r requirements.txt (line 7)) (0.14.0)\n",
      "Requirement already satisfied: MarkupSafe>=2.0 in c:\\users\\monster\\desktop\\engeai\\.venv\\lib\\site-packages (from jinja2->torch==2.3.1->-r requirements.txt (line 3)) (2.1.5)\n",
      "Requirement already satisfied: language-data>=1.2 in c:\\users\\monster\\desktop\\engeai\\.venv\\lib\\site-packages (from langcodes<4.0.0,>=3.2.0->spacy==3.7.5->-r requirements.txt (line 9)) (1.2.0)\n",
      "Requirement already satisfied: SQLAlchemy>=1.4.49 in c:\\users\\monster\\desktop\\engeai\\.venv\\lib\\site-packages (from SQLAlchemy[asyncio]>=1.4.49->llama-index-core<0.11.0,>=0.10.1->llama-index-llms-groq==0.1.4->-r requirements.txt (line 13)) (2.0.31)\n",
      "Requirement already satisfied: aiohttp<4.0.0,>=3.8.6 in c:\\users\\monster\\desktop\\engeai\\.venv\\lib\\site-packages (from llama-index-core<0.11.0,>=0.10.1->llama-index-llms-groq==0.1.4->-r requirements.txt (line 13)) (3.9.5)\n",
      "Requirement already satisfied: dataclasses-json in c:\\users\\monster\\desktop\\engeai\\.venv\\lib\\site-packages (from llama-index-core<0.11.0,>=0.10.1->llama-index-llms-groq==0.1.4->-r requirements.txt (line 13)) (0.6.7)\n",
      "Requirement already satisfied: deprecated>=1.2.9.3 in c:\\users\\monster\\desktop\\engeai\\.venv\\lib\\site-packages (from llama-index-core<0.11.0,>=0.10.1->llama-index-llms-groq==0.1.4->-r requirements.txt (line 13)) (1.2.14)\n",
      "Requirement already satisfied: dirtyjson<2.0.0,>=1.0.8 in c:\\users\\monster\\desktop\\engeai\\.venv\\lib\\site-packages (from llama-index-core<0.11.0,>=0.10.1->llama-index-llms-groq==0.1.4->-r requirements.txt (line 13)) (1.0.8)\n",
      "Requirement already satisfied: llama-cloud<0.0.7,>=0.0.6 in c:\\users\\monster\\desktop\\engeai\\.venv\\lib\\site-packages (from llama-index-core<0.11.0,>=0.10.1->llama-index-llms-groq==0.1.4->-r requirements.txt (line 13)) (0.0.6)\n",
      "Requirement already satisfied: nest-asyncio<2.0.0,>=1.5.8 in c:\\users\\monster\\desktop\\engeai\\.venv\\lib\\site-packages (from llama-index-core<0.11.0,>=0.10.1->llama-index-llms-groq==0.1.4->-r requirements.txt (line 13)) (1.6.0)\n",
      "Requirement already satisfied: pandas in c:\\users\\monster\\desktop\\engeai\\.venv\\lib\\site-packages (from llama-index-core<0.11.0,>=0.10.1->llama-index-llms-groq==0.1.4->-r requirements.txt (line 13)) (2.2.2)\n",
      "Requirement already satisfied: tenacity!=8.4.0,<9.0.0,>=8.2.0 in c:\\users\\monster\\desktop\\engeai\\.venv\\lib\\site-packages (from llama-index-core<0.11.0,>=0.10.1->llama-index-llms-groq==0.1.4->-r requirements.txt (line 13)) (8.4.2)\n",
      "Requirement already satisfied: tiktoken>=0.3.3 in c:\\users\\monster\\desktop\\engeai\\.venv\\lib\\site-packages (from llama-index-core<0.11.0,>=0.10.1->llama-index-llms-groq==0.1.4->-r requirements.txt (line 13)) (0.7.0)\n",
      "Requirement already satisfied: typing-inspect>=0.8.0 in c:\\users\\monster\\desktop\\engeai\\.venv\\lib\\site-packages (from llama-index-core<0.11.0,>=0.10.1->llama-index-llms-groq==0.1.4->-r requirements.txt (line 13)) (0.9.0)\n",
      "Requirement already satisfied: llama-index-llms-openai<0.2.0,>=0.1.1 in c:\\users\\monster\\desktop\\engeai\\.venv\\lib\\site-packages (from llama-index-llms-openai-like<0.2.0,>=0.1.3->llama-index-llms-groq==0.1.4->-r requirements.txt (line 13)) (0.1.24)\n",
      "Requirement already satisfied: intel-openmp==2021.* in c:\\users\\monster\\desktop\\engeai\\.venv\\lib\\site-packages (from mkl<=2021.4.0,>=2021.1.1->torch==2.3.1->-r requirements.txt (line 3)) (2021.4.0)\n",
      "Requirement already satisfied: tbb==2021.* in c:\\users\\monster\\desktop\\engeai\\.venv\\lib\\site-packages (from mkl<=2021.4.0,>=2021.1.1->torch==2.3.1->-r requirements.txt (line 3)) (2021.13.0)\n",
      "Requirement already satisfied: annotated-types>=0.4.0 in c:\\users\\monster\\desktop\\engeai\\.venv\\lib\\site-packages (from pydantic<3,>=1.9.0->openai==1.35.7->-r requirements.txt (line 7)) (0.7.0)\n",
      "Requirement already satisfied: pydantic-core==2.20.0 in c:\\users\\monster\\desktop\\engeai\\.venv\\lib\\site-packages (from pydantic<3,>=1.9.0->openai==1.35.7->-r requirements.txt (line 7)) (2.20.0)\n",
      "Requirement already satisfied: charset-normalizer<4,>=2 in c:\\users\\monster\\desktop\\engeai\\.venv\\lib\\site-packages (from requests->transformers==4.42.3->-r requirements.txt (line 2)) (3.3.2)\n",
      "Requirement already satisfied: urllib3<3,>=1.21.1 in c:\\users\\monster\\desktop\\engeai\\.venv\\lib\\site-packages (from requests->transformers==4.42.3->-r requirements.txt (line 2)) (2.2.2)\n",
      "Requirement already satisfied: blis<0.8.0,>=0.7.8 in c:\\users\\monster\\desktop\\engeai\\.venv\\lib\\site-packages (from thinc<8.3.0,>=8.2.2->spacy==3.7.5->-r requirements.txt (line 9)) (0.7.11)\n",
      "Requirement already satisfied: confection<1.0.0,>=0.0.1 in c:\\users\\monster\\desktop\\engeai\\.venv\\lib\\site-packages (from thinc<8.3.0,>=8.2.2->spacy==3.7.5->-r requirements.txt (line 9)) (0.1.5)\n",
      "Requirement already satisfied: colorama in c:\\users\\monster\\desktop\\engeai\\.venv\\lib\\site-packages (from tqdm>=4.27->transformers==4.42.3->-r requirements.txt (line 2)) (0.4.6)\n",
      "Requirement already satisfied: shellingham>=1.3.0 in c:\\users\\monster\\desktop\\engeai\\.venv\\lib\\site-packages (from typer<1.0.0,>=0.3.0->spacy==3.7.5->-r requirements.txt (line 9)) (1.5.4)\n",
      "Requirement already satisfied: rich>=10.11.0 in c:\\users\\monster\\desktop\\engeai\\.venv\\lib\\site-packages (from typer<1.0.0,>=0.3.0->spacy==3.7.5->-r requirements.txt (line 9)) (13.7.1)\n",
      "Requirement already satisfied: httptools>=0.5.0 in c:\\users\\monster\\desktop\\engeai\\.venv\\lib\\site-packages (from uvicorn[standard]>=0.12.0->fastapi==0.111.0->-r requirements.txt (line 11)) (0.6.1)\n",
      "Requirement already satisfied: python-dotenv>=0.13 in c:\\users\\monster\\desktop\\engeai\\.venv\\lib\\site-packages (from uvicorn[standard]>=0.12.0->fastapi==0.111.0->-r requirements.txt (line 11)) (1.0.1)\n",
      "Requirement already satisfied: watchfiles>=0.13 in c:\\users\\monster\\desktop\\engeai\\.venv\\lib\\site-packages (from uvicorn[standard]>=0.12.0->fastapi==0.111.0->-r requirements.txt (line 11)) (0.22.0)\n",
      "Requirement already satisfied: websockets>=10.4 in c:\\users\\monster\\desktop\\engeai\\.venv\\lib\\site-packages (from uvicorn[standard]>=0.12.0->fastapi==0.111.0->-r requirements.txt (line 11)) (12.0)\n",
      "Requirement already satisfied: cloudpathlib<1.0.0,>=0.7.0 in c:\\users\\monster\\desktop\\engeai\\.venv\\lib\\site-packages (from weasel<0.5.0,>=0.1.0->spacy==3.7.5->-r requirements.txt (line 9)) (0.18.1)\n",
      "Requirement already satisfied: smart-open<8.0.0,>=5.2.1 in c:\\users\\monster\\desktop\\engeai\\.venv\\lib\\site-packages (from weasel<0.5.0,>=0.1.0->spacy==3.7.5->-r requirements.txt (line 9)) (7.0.4)\n",
      "Requirement already satisfied: threadpoolctl>=3.1.0 in c:\\users\\monster\\desktop\\engeai\\.venv\\lib\\site-packages (from scikit-learn->sentence-transformers==3.0.1->-r requirements.txt (line 10)) (3.5.0)\n",
      "Requirement already satisfied: mpmath<1.4.0,>=1.1.0 in c:\\users\\monster\\desktop\\engeai\\.venv\\lib\\site-packages (from sympy->torch==2.3.1->-r requirements.txt (line 3)) (1.3.0)\n",
      "Requirement already satisfied: aiosignal>=1.1.2 in c:\\users\\monster\\desktop\\engeai\\.venv\\lib\\site-packages (from aiohttp<4.0.0,>=3.8.6->llama-index-core<0.11.0,>=0.10.1->llama-index-llms-groq==0.1.4->-r requirements.txt (line 13)) (1.3.1)\n",
      "Requirement already satisfied: attrs>=17.3.0 in c:\\users\\monster\\desktop\\engeai\\.venv\\lib\\site-packages (from aiohttp<4.0.0,>=3.8.6->llama-index-core<0.11.0,>=0.10.1->llama-index-llms-groq==0.1.4->-r requirements.txt (line 13)) (23.2.0)\n",
      "Requirement already satisfied: frozenlist>=1.1.1 in c:\\users\\monster\\desktop\\engeai\\.venv\\lib\\site-packages (from aiohttp<4.0.0,>=3.8.6->llama-index-core<0.11.0,>=0.10.1->llama-index-llms-groq==0.1.4->-r requirements.txt (line 13)) (1.4.1)\n",
      "Requirement already satisfied: multidict<7.0,>=4.5 in c:\\users\\monster\\desktop\\engeai\\.venv\\lib\\site-packages (from aiohttp<4.0.0,>=3.8.6->llama-index-core<0.11.0,>=0.10.1->llama-index-llms-groq==0.1.4->-r requirements.txt (line 13)) (6.0.5)\n",
      "Requirement already satisfied: yarl<2.0,>=1.0 in c:\\users\\monster\\desktop\\engeai\\.venv\\lib\\site-packages (from aiohttp<4.0.0,>=3.8.6->llama-index-core<0.11.0,>=0.10.1->llama-index-llms-groq==0.1.4->-r requirements.txt (line 13)) (1.9.4)\n",
      "Requirement already satisfied: wheel<1.0,>=0.23.0 in c:\\users\\monster\\desktop\\engeai\\.venv\\lib\\site-packages (from astunparse>=1.6.0->tensorflow-intel==2.16.2->tensorflow==2.16.2->-r requirements.txt (line 5)) (0.43.0)\n",
      "Requirement already satisfied: namex in c:\\users\\monster\\desktop\\engeai\\.venv\\lib\\site-packages (from keras>=3.0.0->tensorflow-intel==2.16.2->tensorflow==2.16.2->-r requirements.txt (line 5)) (0.0.8)\n",
      "Requirement already satisfied: optree in c:\\users\\monster\\desktop\\engeai\\.venv\\lib\\site-packages (from keras>=3.0.0->tensorflow-intel==2.16.2->tensorflow==2.16.2->-r requirements.txt (line 5)) (0.11.0)\n",
      "Requirement already satisfied: marisa-trie>=0.7.7 in c:\\users\\monster\\desktop\\engeai\\.venv\\lib\\site-packages (from language-data>=1.2->langcodes<4.0.0,>=3.2.0->spacy==3.7.5->-r requirements.txt (line 9)) (1.2.0)\n",
      "Requirement already satisfied: markdown-it-py>=2.2.0 in c:\\users\\monster\\desktop\\engeai\\.venv\\lib\\site-packages (from rich>=10.11.0->typer<1.0.0,>=0.3.0->spacy==3.7.5->-r requirements.txt (line 9)) (3.0.0)\n",
      "Requirement already satisfied: pygments<3.0.0,>=2.13.0 in c:\\users\\monster\\desktop\\engeai\\.venv\\lib\\site-packages (from rich>=10.11.0->typer<1.0.0,>=0.3.0->spacy==3.7.5->-r requirements.txt (line 9)) (2.18.0)\n",
      "Requirement already satisfied: greenlet!=0.4.17 in c:\\users\\monster\\desktop\\engeai\\.venv\\lib\\site-packages (from SQLAlchemy>=1.4.49->SQLAlchemy[asyncio]>=1.4.49->llama-index-core<0.11.0,>=0.10.1->llama-index-llms-groq==0.1.4->-r requirements.txt (line 13)) (3.0.3)\n",
      "Requirement already satisfied: markdown>=2.6.8 in c:\\users\\monster\\desktop\\engeai\\.venv\\lib\\site-packages (from tensorboard<2.17,>=2.16->tensorflow-intel==2.16.2->tensorflow==2.16.2->-r requirements.txt (line 5)) (3.6)\n",
      "Requirement already satisfied: tensorboard-data-server<0.8.0,>=0.7.0 in c:\\users\\monster\\desktop\\engeai\\.venv\\lib\\site-packages (from tensorboard<2.17,>=2.16->tensorflow-intel==2.16.2->tensorflow==2.16.2->-r requirements.txt (line 5)) (0.7.2)\n",
      "Requirement already satisfied: werkzeug>=1.0.1 in c:\\users\\monster\\desktop\\engeai\\.venv\\lib\\site-packages (from tensorboard<2.17,>=2.16->tensorflow-intel==2.16.2->tensorflow==2.16.2->-r requirements.txt (line 5)) (3.0.3)\n",
      "Requirement already satisfied: mypy-extensions>=0.3.0 in c:\\users\\monster\\desktop\\engeai\\.venv\\lib\\site-packages (from typing-inspect>=0.8.0->llama-index-core<0.11.0,>=0.10.1->llama-index-llms-groq==0.1.4->-r requirements.txt (line 13)) (1.0.0)\n",
      "Requirement already satisfied: marshmallow<4.0.0,>=3.18.0 in c:\\users\\monster\\desktop\\engeai\\.venv\\lib\\site-packages (from dataclasses-json->llama-index-core<0.11.0,>=0.10.1->llama-index-llms-groq==0.1.4->-r requirements.txt (line 13)) (3.21.3)\n",
      "Requirement already satisfied: python-dateutil>=2.8.2 in c:\\users\\monster\\desktop\\engeai\\.venv\\lib\\site-packages (from pandas->llama-index-core<0.11.0,>=0.10.1->llama-index-llms-groq==0.1.4->-r requirements.txt (line 13)) (2.9.0.post0)\n",
      "Requirement already satisfied: pytz>=2020.1 in c:\\users\\monster\\desktop\\engeai\\.venv\\lib\\site-packages (from pandas->llama-index-core<0.11.0,>=0.10.1->llama-index-llms-groq==0.1.4->-r requirements.txt (line 13)) (2024.1)\n",
      "Requirement already satisfied: tzdata>=2022.7 in c:\\users\\monster\\desktop\\engeai\\.venv\\lib\\site-packages (from pandas->llama-index-core<0.11.0,>=0.10.1->llama-index-llms-groq==0.1.4->-r requirements.txt (line 13)) (2024.1)\n",
      "Requirement already satisfied: mdurl~=0.1 in c:\\users\\monster\\desktop\\engeai\\.venv\\lib\\site-packages (from markdown-it-py>=2.2.0->rich>=10.11.0->typer<1.0.0,>=0.3.0->spacy==3.7.5->-r requirements.txt (line 9)) (0.1.2)\n",
      "Note: you may need to restart the kernel to use updated packages.\n"
     ]
    }
   ],
   "source": [
    "pip install -r requirements.txt"
   ]
  },
  {
   "cell_type": "code",
   "execution_count": 2,
   "metadata": {},
   "outputs": [
    {
     "name": "stderr",
     "output_type": "stream",
     "text": [
      "c:\\Users\\Monster\\Desktop\\EngeAI\\.venv\\Lib\\site-packages\\tqdm\\auto.py:21: TqdmWarning: IProgress not found. Please update jupyter and ipywidgets. See https://ipywidgets.readthedocs.io/en/stable/user_install.html\n",
      "  from .autonotebook import tqdm as notebook_tqdm\n",
      "c:\\Users\\Monster\\Desktop\\EngeAI\\.venv\\Lib\\site-packages\\threadpoolctl.py:1214: RuntimeWarning: \n",
      "Found Intel OpenMP ('libiomp') and LLVM OpenMP ('libomp') loaded at\n",
      "the same time. Both libraries are known to be incompatible and this\n",
      "can cause random crashes or deadlocks on Linux when loaded in the\n",
      "same Python program.\n",
      "Using threadpoolctl may cause crashes or deadlocks. For more\n",
      "information and possible workarounds, please see\n",
      "    https://github.com/joblib/threadpoolctl/blob/master/multiple_openmp.md\n",
      "\n",
      "  warnings.warn(msg, RuntimeWarning)\n",
      "[nltk_data] Downloading package punkt to\n",
      "[nltk_data]     C:\\Users\\Monster\\AppData\\Roaming\\nltk_data...\n",
      "[nltk_data]   Package punkt is already up-to-date!\n"
     ]
    }
   ],
   "source": [
    "import fitz\n",
    "import os\n",
    "from transformers import BertTokenizer, BertModel\n",
    "import torch\n",
    "import faiss\n",
    "import nltk\n",
    "nltk.download('punkt')\n",
    "from nltk.tokenize import word_tokenize\n",
    "from llama_index.llms.groq import Groq\n",
    "import re\n",
    "import yaml"
   ]
  },
  {
   "cell_type": "code",
   "execution_count": 3,
   "metadata": {},
   "outputs": [],
   "source": [
    "with open('auth.yaml', 'r') as config_file:\n",
    "    config = yaml.load(config_file,Loader=yaml.Loader)\n",
    "my_api_key = config['api_key']"
   ]
  },
  {
   "cell_type": "code",
   "execution_count": 4,
   "metadata": {},
   "outputs": [],
   "source": [
    "def extract_text_from_pdfs(pdf_folder):\n",
    "    \"\"\"\n",
    "    Extracts text from all PDF files in a specified folder.\n",
    "\n",
    "    Args:\n",
    "        pdf_folder (str): The path to the folder containing PDF files.\n",
    "\n",
    "    Returns:\n",
    "        list: A list of strings, where each string is the text extracted from the PDF files.\n",
    "    \"\"\"\n",
    "    texts = []  # Initialize an empty list to store extracted texts\n",
    "    \n",
    "    # Loop through all files in the specified folder\n",
    "    for pdf_file in os.listdir(pdf_folder):\n",
    "        # Check if the current file is a PDF\n",
    "        if pdf_file.endswith('.pdf'):\n",
    "            # Open the PDF file\n",
    "            doc = fitz.open(os.path.join(pdf_folder, pdf_file))\n",
    "            \n",
    "            # Loop through all pages in the PDF file\n",
    "            for page_num in range(len(doc)):\n",
    "                # Load the current page\n",
    "                page = doc.load_page(page_num)\n",
    "                \n",
    "                # Extract text from the current page\n",
    "                text = page.get_text()\n",
    "\n",
    "                cleaned_text = re.sub(r'\\.{4,}', '.', text)\n",
    "\n",
    "                \n",
    "                # Append the extracted text to the list\n",
    "                texts.append(cleaned_text)\n",
    "    \n",
    "    return texts  # Return the list of extracted texts\n",
    "\n",
    "# Specify the folder containing the PDF files\n",
    "# Use os.path.join to construct a relative path\n",
    "# This assumes the 'EngeAI' folder is in the same directory as your script\n",
    "current_directory = os.path.dirname(os.getcwd())  # Get the directory of the current script\n",
    "pdf_folder = os.path.join(current_directory, 'EngeAI','files')\n",
    "\n",
    "# Call the function and store the extracted texts in a variable\n",
    "pdf_texts = extract_text_from_pdfs(pdf_folder)"
   ]
  },
  {
   "cell_type": "code",
   "execution_count": 5,
   "metadata": {},
   "outputs": [
    {
     "data": {
      "text/plain": [
       "'Informationen für Ihren Versicherungsvertrag\\nSeite 1 von 3\\nBASIS_PACK_WB\\nWB/D/1006/XIII/03/22\\n1\\nWer ist Ihr Vertragspartner\\nVersicherer ist die Standard Life International DAC (90 St Stephens Green, Dublin 2, Irland, \\nRegister-Nr. 408507). Die Anschrift der für Sie zuständigen Zweigniederlassung lautet: \\nStandard Life Versicherung\\nZweigniederlassung Deutschland der\\nStandard Life International DAC\\nLyoner Straße 9\\n60528 Frankfurt/Main\\nLadungsfähige Anschrift und Sitz der Zweigniederlassung\\nStandard Life Versicherung \\nZweigniederlassung Deutschland der \\nStandard Life International DAC\\nLyoner Straße 9\\n60528 Frankfurt\\nDie Zweigniederlassung ist eingetragen beim Amtsgericht Frankfurt am Main unter der Registernummer \\nHRB 111481.\\nVertreter der Zweigniederlassung und zugleich Hauptbevollmächtigter: Richard Reinhard.\\nStandard Life International DAC ist eine irische Versicherungsgesellschaft mit Sitz in Dublin und gehört zur \\nPhoenix Gruppe in Großbritannien. Standard Life International DAC ist von der irischen Zentralbank CBI \\nzugelassen und wird von ihr nach irischem Aufsichtsrecht reguliert.\\n2\\nWas bieten wir an?\\nUnsere Hauptgeschäftstätigkeit ist der Verkauf von Lebensversicherungen zur Absicherung von \\nbiometrischen Risiken, wie Langlebigkeit, Tod und Berufsunfähigkeit. \\n3\\nWie sprechen wir?\\nJegliche schriftliche und mündliche Kommunikation im Zusammenhang mit Ihrem Versicherungsvertrag \\nerfolgt in deutscher Sprache.\\n4\\nWelches Recht ist anwendbar?\\nDie Vertragsbedingungen und die vorvertraglichen Informationen erhalten Sie in deutscher Sprache. Für die \\nVertragsanbahnung und alle bei uns abgeschlossenen Verträge gilt vertragsrechtlich das Recht der \\nBundesrepublik Deutschland.\\n5\\nGibt es einen Sicherungsfonds?\\nStandard Life International DAC gehört keiner Einrichtung zur Sicherung von Ansprüchen der Versicherten \\nan (externer Sicherungsfonds). \\nAllerdings bestehen EU-weite aufsichtsrechtliche Anforderungen, die dem Insolvenzschutz dienen. Sie \\nverpflichten Versicherungsgesellschaften in Irland, einschließlich Standard Life International DAC, getrennt \\ngehaltene Kapitalanlagen in einem Umfang vorzuhalten, die die Verpflichtungen gegenüber den Inhabern \\nvon Versicherungsverträgen abdecken.  \\nIm unwahrscheinlichen Fall einer Insolvenz und vorbehaltlich sehr weniger Ausnahmen stehen diese \\nVermögenswerte zunächst den Inhabern von Versicherungsverträgen zu, bevor sie verwendet werden \\ndürfen, um anderweitige Ansprüche zu erfüllen.\\n'"
      ]
     },
     "execution_count": 5,
     "metadata": {},
     "output_type": "execute_result"
    }
   ],
   "source": [
    "pdf_texts[2]"
   ]
  },
  {
   "cell_type": "code",
   "execution_count": 6,
   "metadata": {},
   "outputs": [
    {
     "name": "stdout",
     "output_type": "stream",
     "text": [
      "Segment 2: Informationen für Ihren Versicherungsvertrag Seite 1 von 3 BASIS_PACK_WB WB/D/1006/XIII/03/22 1 Wer ist Ihr Vertragspartner Versicherer ist die Standard Life International DAC ( 90 St Stephens Green , Dublin 2 , Irland , Register-Nr . 408507 ) . Die Anschrift der für Sie zuständigen Zweigniederlassung lautet : Standard Life Versicherung Zweigniederlassung Deutschland der Standard Life International DAC Lyoner Straße 9 60528 Frankfurt/Main Ladungsfähige Anschrift und Sitz der Zweigniederlassung Standard Life Versicherung Zweigniederlassung Deutschland der Standard Life International DAC Lyoner Straße 9 60528 Frankfurt Die Zweigniederlassung ist eingetragen beim Amtsgericht Frankfurt am Main unter der Registernummer HRB 111481 . Vertreter der\n"
     ]
    }
   ],
   "source": [
    "from nltk.tokenize import word_tokenize\n",
    "\n",
    "# Function to segment texts with overlapping chunks\n",
    "def segment_text_with_overlap(texts, chunk_size, chunk_overlap):\n",
    "    segments = []  # List to store the resulting text segments\n",
    "    for text in texts:\n",
    "        words = word_tokenize(text)  # Tokenize the text into words\n",
    "        step = chunk_size - chunk_overlap  # Calculate the step size for the overlapping chunks\n",
    "        for i in range(0, len(words), step):  # Loop over the words with the calculated step size\n",
    "            chunk = ' '.join(words[i:i+chunk_size])  # Create a chunk of the specified size\n",
    "            segments.append(chunk)  # Add the chunk to the list of segments\n",
    "    return segments  # Return the list of text segments\n",
    "\n",
    "# Example usage\n",
    "segments = segment_text_with_overlap(pdf_texts, chunk_size=100, chunk_overlap=5)\n",
    "\n",
    "# Print each segment with its index\n",
    "print(f\"Segment {2}:\", segments[2])"
   ]
  },
  {
   "cell_type": "code",
   "execution_count": 7,
   "metadata": {},
   "outputs": [],
   "source": [
    "# Load the BERT tokenizer and model from the pretrained 'bert-base-multilingual-cased' model\n",
    "tokenizer = BertTokenizer.from_pretrained('bert-base-multilingual-cased')\n",
    "model = BertModel.from_pretrained('bert-base-multilingual-cased')\n",
    "\n",
    "# Function to vectorize a list of texts using the BERT model\n",
    "def vectorize_texts(texts, tokenizer, model):\n",
    "    # - Tokenize the input texts\n",
    "    # - return_tensors='pt' converts the tokens to PyTorch tensors\n",
    "    # - padding=True ensures all sequences are padded to the same length\n",
    "    # - truncation=True truncates sequences longer than max_length\n",
    "    # - max_length=512 sets the maximum length of sequences\n",
    "    inputs = tokenizer(texts, return_tensors='pt', padding=True, truncation=True, max_length=512)\n",
    "    \n",
    "    # Use the model to get the outputs without calculating gradients (disables backpropagation)\n",
    "    with torch.no_grad():\n",
    "        outputs = model(**inputs)\n",
    "    \n",
    "    # Extract the embeddings from the outputs\n",
    "    # - last_hidden_state contains the hidden states of the model\n",
    "    # - [:, 0, :] extracts the embeddings of the [CLS] token (first token)\n",
    "    embeddings = outputs.last_hidden_state[:, 0, :]\n",
    "    \n",
    "    # Return the embeddings\n",
    "    return embeddings\n",
    "\n",
    "# Vectorize the list of text segments using the tokenizer and model\n",
    "vectors = vectorize_texts(segments, tokenizer, model)\n"
   ]
  },
  {
   "cell_type": "code",
   "execution_count": 8,
   "metadata": {},
   "outputs": [],
   "source": [
    "# Convert the PyTorch tensor of vectors to a NumPy array\n",
    "vectors_np = vectors.numpy()\n",
    "\n",
    "# Get the dimension of the vectors (number of features)\n",
    "dimension = vectors_np.shape[1]\n",
    "\n",
    "# Create a FAISS index for fast nearest neighbor search using L2 (Euclidean) distance\n",
    "index = faiss.IndexFlatL2(dimension)\n",
    "\n",
    "# Add the vector representations to the FAISS index\n",
    "index.add(vectors_np)\n"
   ]
  },
  {
   "cell_type": "code",
   "execution_count": 9,
   "metadata": {},
   "outputs": [
    {
     "name": "stdout",
     "output_type": "stream",
     "text": [
      "Passage 1 (Distance: 18.46746063232422): Anspruch darauf , dass wir den in c beschriebenen Wert der zum Todeszeitpunkt berechneten → Todesfallleistung auszahlen . e ) Der Anspruch auf Zahlung im Todesfall wird fällig , wenn der Monat abläuft , in dem die → versicherte Person stirbt , und wenn uns alle erforderlichen Dokumente vorliegen . Mehr zu den erforderlichen Dokumenten im Todesfall finden Sie in 6.1 . 2.5 Erhalten Sie eine Überschussbeteiligung ? Dem → Versicherungsnehmer steht eine Beteiligung an den Überschüssen und Bewertungsreserven von Standard Life International DAC im Sinne von § 153 , Abs . 1 VVG ( Versicherungsvertragsgesetz ) nicht zu .\n",
      "Passage 2 (Distance: 18.54389762878418): den erforderlichen Doku- menten im Todesfall finden Sie in 6.1 . Stirbt die versicherte Person nach dem Rentenbeginndatum , wird grundsätzlich keine → Todesfallleis- tung fällig . Optional kann Kapitalschutz vereinbart werden ( siehe 2.6 ) . Ob Kapitalschutz vereinbart ist , entnehmen Sie bitte Ihrem Versicherungsschein .\n",
      "Passage 3 (Distance: 19.349079132080078): . Aus ihm ist also weder ein Rückschluss auf eine Religionszugehörigkeit oder Nichtreligionszugehörigkeit noch ein Rückschluss auf einen vorliegenden oder nicht vorliegenden Sperrvermerk möglich . d ) Sonstiges Auf Ihren Antrag hin erstellen wir eine entsprechende Steuerbescheinigung . Durch das Einreichen eines Freistellungsauftrags oder einer Nichtveranlagungsbescheinigung können Sie den Einbehalt der Kapitalertragsteuer , des Solidaritätszuschlags sowie gegebenenfalls der Kirchensteuer ganz oder teilweise verhindern . Kapitalleistungen im Todesfall sind in vollem Umfang einkommensteuerfrei .\n",
      "Passage 4 (Distance: 20.857864379882812): → Nachtrag zum → Versicherungsschein . 7.3 Was ist der Auszahlungsplan ? Bei Vertragsabschluss oder während der Vertragslaufzeit können Sie einen automatischen Auszahlungsplan in → Textform festlegen . Dabei bestimmen Sie die Höhe , Laufzeit und Frequenz der Auszahlungen und wie die Entnahme der einzelnen Auszahlung aus Ihrem Vertrag erfolgen soll ( siehe a und b ) . Alle diese Faktoren können Sie nach Bedarf verändern oder den Auszahlungsplan beenden . Einen Auszahlungsplan können Sie vereinbaren , wenn die Summe aller geplanten Auszahlungen kleiner ist als Ihr Fondsvermögen minus der zukünftigen Kosten .\n",
      "Passage 5 (Distance: 20.95101547241211): dass die Erklärung vom Versicherungsnehmer kommt , können wir weitere Informationen anfordern . Todesfallleistung : In Ihrer WeitBlick wird die Todesfallleistung als einmalige Kapitalauszahlung fällig , wenn die ( letztversterbende ) versicherte Person innerhalb der vereinbarten Vertragslaufzeit verstirbt .\n"
     ]
    }
   ],
   "source": [
    "def retrieve_passages(query, tokenizer, model, index, segments, top_k=5):\n",
    "    # Tokenize the query\n",
    "    # - return_tensors='pt' converts the tokens to PyTorch tensors\n",
    "    # - padding=True ensures the sequence is padded to the same length\n",
    "    # - truncation=True truncates sequences longer than max_length\n",
    "    # - max_length=512 sets the maximum length of the sequence\n",
    "    query_inputs = tokenizer(query, return_tensors='pt', padding=True, truncation=True, max_length=512)\n",
    "    \n",
    "    # Use the model to get the outputs for the query without calculating gradients (disables backpropagation)\n",
    "    with torch.no_grad():\n",
    "        query_outputs = model(**query_inputs)\n",
    "    \n",
    "    # Extract the embedding for the [CLS] token (first token)\n",
    "    query_vector = query_outputs.last_hidden_state[:, 0, :].numpy()\n",
    "    \n",
    "    # Search the FAISS index for the top_k most similar vectors to the query vector\n",
    "    distances, indices = index.search(query_vector, top_k)\n",
    "    \n",
    "    # Retrieve the corresponding segments based on the indices of the search results\n",
    "    results = [segments[idx] for idx in indices[0]]\n",
    "    \n",
    "    # Return the most relevant segments and their corresponding distances\n",
    "    return results, distances\n",
    "\n",
    "# Example query\n",
    "query = \"Dieser Wert ist inhaltsleer und nicht interpretierbar. Aus ihm ist also weder ein Rückschluss auf eine Religionszugehörigkeit oder Nichtreligionszugehörigkeit noch ein Rückschluss auf einen vorliegenden oder nicht vorliegenden Sperrvermerk möglich.\"\n",
    "\n",
    "# Retrieve the relevant passages and their distances from the query\n",
    "relevant_passages, my_distance = retrieve_passages(query, tokenizer, model, index, segments)\n",
    "\n",
    "# Print the relevant passages and distances\n",
    "for i, (passage, distance) in enumerate(zip(relevant_passages, my_distance[0])):\n",
    "    print(f\"Passage {i+1} (Distance: {distance}): {passage}\")"
   ]
  },
  {
   "cell_type": "code",
   "execution_count": 10,
   "metadata": {},
   "outputs": [
    {
     "name": "stdout",
     "output_type": "stream",
     "text": [
      "Anspruch darauf , dass wir den in c beschriebenen Wert der zum Todeszeitpunkt berechneten → Todesfallleistung auszahlen . e ) Der Anspruch auf Zahlung im Todesfall wird fällig , wenn der Monat abläuft , in dem die → versicherte Person stirbt , und wenn uns alle erforderlichen Dokumente vorliegen . Mehr zu den erforderlichen Dokumenten im Todesfall finden Sie in 6.1 . 2.5 Erhalten Sie eine Überschussbeteiligung ? Dem → Versicherungsnehmer steht eine Beteiligung an den Überschüssen und Bewertungsreserven von Standard Life International DAC im Sinne von § 153 , Abs . 1 VVG ( Versicherungsvertragsgesetz ) nicht zu .\n",
      "\n",
      "den erforderlichen Doku- menten im Todesfall finden Sie in 6.1 . Stirbt die versicherte Person nach dem Rentenbeginndatum , wird grundsätzlich keine → Todesfallleis- tung fällig . Optional kann Kapitalschutz vereinbart werden ( siehe 2.6 ) . Ob Kapitalschutz vereinbart ist , entnehmen Sie bitte Ihrem Versicherungsschein .\n",
      "\n",
      ". Aus ihm ist also weder ein Rückschluss auf eine Religionszugehörigkeit oder Nichtreligionszugehörigkeit noch ein Rückschluss auf einen vorliegenden oder nicht vorliegenden Sperrvermerk möglich . d ) Sonstiges Auf Ihren Antrag hin erstellen wir eine entsprechende Steuerbescheinigung . Durch das Einreichen eines Freistellungsauftrags oder einer Nichtveranlagungsbescheinigung können Sie den Einbehalt der Kapitalertragsteuer , des Solidaritätszuschlags sowie gegebenenfalls der Kirchensteuer ganz oder teilweise verhindern . Kapitalleistungen im Todesfall sind in vollem Umfang einkommensteuerfrei .\n",
      "\n",
      "→ Nachtrag zum → Versicherungsschein . 7.3 Was ist der Auszahlungsplan ? Bei Vertragsabschluss oder während der Vertragslaufzeit können Sie einen automatischen Auszahlungsplan in → Textform festlegen . Dabei bestimmen Sie die Höhe , Laufzeit und Frequenz der Auszahlungen und wie die Entnahme der einzelnen Auszahlung aus Ihrem Vertrag erfolgen soll ( siehe a und b ) . Alle diese Faktoren können Sie nach Bedarf verändern oder den Auszahlungsplan beenden . Einen Auszahlungsplan können Sie vereinbaren , wenn die Summe aller geplanten Auszahlungen kleiner ist als Ihr Fondsvermögen minus der zukünftigen Kosten .\n",
      "\n",
      "dass die Erklärung vom Versicherungsnehmer kommt , können wir weitere Informationen anfordern . Todesfallleistung : In Ihrer WeitBlick wird die Todesfallleistung als einmalige Kapitalauszahlung fällig , wenn die ( letztversterbende ) versicherte Person innerhalb der vereinbarten Vertragslaufzeit verstirbt .\n"
     ]
    }
   ],
   "source": [
    "def create_response(passages):\n",
    "    # Join the passages with double newlines to create the response text\n",
    "    response = \"\\n\\n\".join(passages)\n",
    "    return response\n",
    "\n",
    "# Print the response created from the relevant passages\n",
    "print(create_response(relevant_passages))\n"
   ]
  },
  {
   "cell_type": "markdown",
   "metadata": {},
   "source": [
    "The LLM Model"
   ]
  },
  {
   "cell_type": "code",
   "execution_count": 11,
   "metadata": {},
   "outputs": [],
   "source": [
    "def generate_answer(question):\n",
    "    #vectorize_q = vectorize_texts(texts=question, tokenizer=tokenizer, model=model)\n",
    "    relevant_passages,dist = retrieve_passages(query= question , tokenizer=tokenizer, model=model, index=index, segments=segments, top_k=5)\n",
    "    \n",
    "    llm = Groq(model=\"llama3-70b-8192\", api_key=my_api_key)\n",
    "\n",
    "    prompt = f\"\"\"   Beantworten Sie diese Frage nur anhand der folgenden Absätze \n",
    "                    Bringen Sie keine Informationen von außerhalb der Absätze ein und \n",
    "                    umformulieren und leicht verständlich machen\n",
    "                    {question}{create_response(relevant_passages)}\"\"\"\n",
    "    answer = llm.complete(prompt)\n",
    "    return answer\n",
    "\n",
    "# Print the response created from the relevant passages\n"
   ]
  },
  {
   "cell_type": "code",
   "execution_count": 12,
   "metadata": {},
   "outputs": [
    {
     "name": "stdout",
     "output_type": "stream",
     "text": [
      "Die Standard Life International DAC bietet Managed Portfolios an, die speziell für Vorsorgeprodukte von Standard Life konzipiert sind. Diese Fonds sind nicht öffentlich zugelassen und bieten im Vergleich zu öffentlich zugelassenen Fonds den Vorteil, dass sie eine breite Streuung der Anlagen anstreben, um das Risiko zu verringern und den Erfolg der Anlage zu stabilisieren.\n"
     ]
    }
   ],
   "source": [
    "question =\"\"\"Welche Fonds bietet die Standard Life International DAC speziell für Vorsorgeprodukte von Standard Life an,\n",
    "            und welche Vorteile haben diese Fonds im Vergleich zu öffentlich zugelassenen Fonds?\"\"\"\n",
    "print(generate_answer(question))\n"
   ]
  }
 ],
 "metadata": {
  "kernelspec": {
   "display_name": ".venv",
   "language": "python",
   "name": "python3"
  },
  "language_info": {
   "codemirror_mode": {
    "name": "ipython",
    "version": 3
   },
   "file_extension": ".py",
   "mimetype": "text/x-python",
   "name": "python",
   "nbconvert_exporter": "python",
   "pygments_lexer": "ipython3",
   "version": "3.12.4"
  }
 },
 "nbformat": 4,
 "nbformat_minor": 2
}
